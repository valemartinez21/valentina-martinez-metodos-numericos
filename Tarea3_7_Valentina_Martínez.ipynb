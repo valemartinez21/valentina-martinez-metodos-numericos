{
 "cells": [
  {
   "cell_type": "markdown",
   "metadata": {
    "id": "CN8-DPJXmwrv"
   },
   "source": [
    "#Tarea 3.7\n",
    "Valentina Martinez Garrido\n",
    "\n",
    "Demuestre que la covarianza siempre cumple $\\mathbf{v}^T\\Sigma\\mathbf{v} \\geq 0$ para cualquier vector $\\mathbf{v}$. Interprete el caso en el cual $\\mathbf{w}^T\\Sigma\\mathbf{w} = 0$ para algún vector $\\mathbf{w}$."
   ]
  },
  {
   "cell_type": "code",
   "execution_count": 3,
   "metadata": {
    "id": "4u3HpRp0m3LG"
   },
   "outputs": [],
   "source": [
    "import numpy as np\n",
    "import matplotlib.pyplot as plt"
   ]
  },
  {
   "cell_type": "markdown",
   "metadata": {
    "id": "-aGS7qbdZGNE"
   },
   "source": [
    "# Caso\n",
    " $\\mathbf{v}^T\\Sigma\\mathbf{v} \\geq 0$"
   ]
  },
  {
   "cell_type": "code",
   "execution_count": 4,
   "metadata": {
    "colab": {
     "base_uri": "https://localhost:8080/"
    },
    "id": "nppnlTQeqjOB",
    "outputId": "5a9bee83-9773-4e64-fff0-53c9f245ea89"
   },
   "outputs": [
    {
     "name": "stdout",
     "output_type": "stream",
     "text": [
      "Vector: [-0.42750141 -0.51494743], v.T @ cov @ v = 0.8002\n",
      "Vector: [-1.09607563 -0.13282697], v.T @ cov @ v = 1.4520\n",
      "Vector: [0.296178   0.14809679], v.T @ cov @ v = 0.1798\n",
      "Vector: [-1.74085699 -1.25548865], v.T @ cov @ v = 8.1038\n",
      "Vector: [0.27380996 0.61695506], v.T @ cov @ v = 0.7259\n",
      "Vector: [0.5869133  0.29235995], v.T @ cov @ v = 0.7045\n",
      "Vector: [ 0.37548677 -0.8345779 ], v.T @ cov @ v = 0.3361\n",
      "Vector: [1.81421167 1.45858981], v.T @ cov @ v = 9.6528\n",
      "Vector: [0.86148224 1.0602297 ], v.T @ cov @ v = 3.3276\n",
      "Vector: [1.30803692 0.41481763], v.T @ cov @ v = 2.7512\n",
      "\n",
      "Todos los valores no son negativos, lo que confirma que la matriz es semidefinida positiva\n"
     ]
    }
   ],
   "source": [
    "# Parámetros para la distribución normal\n",
    "mean = np.array([0, 0])\n",
    "cov = np.array([[1, 0.8], [0.8, 1]])\n",
    "\n",
    "# Generamos una muestra de 10 vectores a partir de la distribución gaussiana\n",
    "np.random.seed(42)\n",
    "samples = np.random.multivariate_normal(mean, cov, 10)\n",
    "\n",
    "# Calculamos v.T @ cov @ v para cada muestra (@ multiplica matrices) y verificamos que sea positivo\n",
    "\n",
    "resultados = []\n",
    "for v in samples:\n",
    "  cuadrante_de = v.T @ cov @ v\n",
    "  resultados.append(cuadrante_de)\n",
    "  print(f'Vector: {v}, v.T @ cov @ v = {cuadrante_de:.4f}')\n",
    "\n",
    "#Verificamos los valores\n",
    "\n",
    "negativos = [res for res in resultados if res < 0]\n",
    "\n",
    "if not negativos:\n",
    "  print('\\nTodos los valores no son negativos, lo que confirma que la matriz es semidefinida positiva')\n",
    "else:\n",
    "  print(f'\\nSe encontraron valores negativos: {negativos}')"
   ]
  },
  {
   "cell_type": "markdown",
   "metadata": {
    "id": "htmUvHC2ZO8N"
   },
   "source": [
    "# Caso\n",
    "$\\mathbf{w}^T\\Sigma\\mathbf{w} = 0$"
   ]
  },
  {
   "cell_type": "code",
   "execution_count": 5,
   "metadata": {
    "colab": {
     "base_uri": "https://localhost:8080/"
    },
    "id": "4qFIseJNZDzU",
    "outputId": "7d3cf8d6-14c2-4ce9-d584-c89fece618e7"
   },
   "outputs": [
    {
     "name": "stdout",
     "output_type": "stream",
     "text": [
      "Vector: [-0.42750141 -0.51494743], w.T @ cov @ w = 0.8002\n",
      "Vector: [-1.09607563 -0.13282697], w.T @ cov @ w = 1.4520\n",
      "Vector: [0.296178   0.14809679], w.T @ cov @ w = 0.1798\n",
      "Vector: [-1.74085699 -1.25548865], w.T @ cov @ w = 8.1038\n",
      "Vector: [0.27380996 0.61695506], w.T @ cov @ w = 0.7259\n",
      "Vector: [0.5869133  0.29235995], w.T @ cov @ w = 0.7045\n",
      "Vector: [ 0.37548677 -0.8345779 ], w.T @ cov @ w = 0.3361\n",
      "Vector: [1.81421167 1.45858981], w.T @ cov @ w = 9.6528\n",
      "Vector: [0.86148224 1.0602297 ], w.T @ cov @ w = 3.3276\n",
      "Vector: [1.30803692 0.41481763], w.T @ cov @ w = 2.7512\n",
      "\n",
      "El producto cuadrático no es cero, lo que significa que todos los autovalores son positivos.\n"
     ]
    }
   ],
   "source": [
    "# Parámetros para la distribución normal\n",
    "\n",
    "mean = np.array([0, 0])\n",
    "cov = np.array([[1, 0.8], [0.8, 1]])\n",
    "\n",
    "# Generamos una muestra a partir de la distribución gaussiana\n",
    "np.random.seed(42)\n",
    "samples = np.random.multivariate_normal(mean, cov, 10)\n",
    "\n",
    "# Calculamos w.T @ cov @ w para cada muestra (@ multiplica matrices) y verificamos que sea positivo\n",
    "\n",
    "resultados = []\n",
    "for w in samples:\n",
    "  cuadrante_de = w.T @ cov @ w\n",
    "  resultados.append(cuadrante_de)\n",
    "  print(f'Vector: {w}, w.T @ cov @ w = {cuadrante_de:.4f}')\n",
    "\n",
    "if np.isclose(cuadrante_de, 0):\n",
    "    print(\"\\nEl producto cuadrático es cero, lo que significa que hay una dirección en la que no hay variabilidad.\")\n",
    "else:\n",
    "    print(\"\\nEl producto cuadrático no es cero, lo que significa que todos los autovalores son positivos.\")"
   ]
  },
  {
   "cell_type": "markdown",
   "metadata": {},
   "source": [
    "# Nota: 50\n",
    "No demostraste nada."
   ]
  },
  {
   "cell_type": "markdown",
   "metadata": {},
   "source": [
    "Demostramos:\n",
    "$$\n",
    "v_i \\sigma_{ij} v_j = v_i \\langle (x_i - \\mu_i)(x_j - \\mu_j)\\rangle v_j = \\langle \\left(\\mathbf{v}^T(\\mathbf{x} - \\mu)\\right)\\cdot\\left(\\mathbf{v}^T(\\mathbf{x} - \\mu)\\right)\\rangle\n",
    "$$\n",
    "Como es el valor esperado de algo que es siempre mayor o igual a cero, entonces esta cantidad es mayor o igual a cero.\n",
    "\n",
    "El caso $\\mathbf{w}^T\\Sigma\\mathbf{w} = 0$ indica que la varianza en la dirección $\\mathbf{w}$ es cero. Esto implica que toda la distribución se encuentra en un hiperespacio de una dimensión más baja."
   ]
  },
  {
   "cell_type": "code",
   "execution_count": null,
   "metadata": {},
   "outputs": [],
   "source": []
  }
 ],
 "metadata": {
  "colab": {
   "provenance": []
  },
  "kernelspec": {
   "display_name": "Python 3 (ipykernel)",
   "language": "python",
   "name": "python3"
  },
  "language_info": {
   "codemirror_mode": {
    "name": "ipython",
    "version": 3
   },
   "file_extension": ".py",
   "mimetype": "text/x-python",
   "name": "python",
   "nbconvert_exporter": "python",
   "pygments_lexer": "ipython3",
   "version": "3.11.3"
  }
 },
 "nbformat": 4,
 "nbformat_minor": 1
}
