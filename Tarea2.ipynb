{
 "cells": [
  {
   "cell_type": "code",
   "execution_count": 1,
   "metadata": {
    "colab": {
     "base_uri": "https://localhost:8080/"
    },
    "id": "qPwyXtQ4UH9T",
    "outputId": "d0d17003-ae8e-4829-8eaf-7ad6f497ca0f"
   },
   "outputs": [
    {
     "data": {
      "text/plain": [
       "0.1296"
      ]
     },
     "execution_count": 1,
     "metadata": {},
     "output_type": "execute_result"
    }
   ],
   "source": [
    "import numpy as np\n",
    "\n",
    "# Definir las proporciones de bolas en la urna\n",
    "# Supongamos que hay 3 bolas rojas y 2 bolas de otros colores en la urna\n",
    "total_bolas = 5\n",
    "bolas_rojas = 3\n",
    "\n",
    "# Probabilidad de sacar una bola roja en un intento\n",
    "prob_rojas = bolas_rojas / total_bolas\n",
    "\n",
    "# Como se reemplaza la bola, la probabilidad de sacar cuatro bolas rojas en cuatro intentos es:\n",
    "prob_total_rojas = prob_rojas ** 4\n",
    "\n",
    "prob_total_rojas"
   ]
  },
  {
   "cell_type": "markdown",
   "metadata": {},
   "source": [
    "# Nota: 50\n",
    "No usaste las funciones definidas en clase, ademas la probabilidad no es la correcta."
   ]
  },
  {
   "cell_type": "code",
   "execution_count": 2,
   "metadata": {},
   "outputs": [
    {
     "data": {
      "text/plain": [
       "0.023445456527099316"
      ]
     },
     "execution_count": 2,
     "metadata": {},
     "output_type": "execute_result"
    }
   ],
   "source": [
    "def prob(evento, espacio):\n",
    "    ''' \n",
    "    Regresa la probabilidad de que ocurra 'evento'.\n",
    "    Los argumentos deben ser conjuntos.    \n",
    "    '''\n",
    "    return (len(evento & espacio)/len(espacio))\n",
    "\n",
    "def unir(color, numeros):\n",
    "    return {color + numero for numero in numeros}\n",
    "\n",
    "urna = unir('B', '12345678') | unir('A', '123456') | unir('R', '123456789')\n",
    "\n",
    "# Definimos una función que simula sacar una bola\n",
    "# toma una muestra que es una lista con todos los posibles resultados de sacar n-1 bolas\n",
    "# y regresa una lista con todos los posibles resultados de sacar n bolas con reemplazo\n",
    "def sacar_bola(muestra, urna):\n",
    "    nueva = []\n",
    "    if len(muestra) == 0:\n",
    "        return [(e,) for e in urna]\n",
    "    for e in muestra:\n",
    "        for bola in urna:\n",
    "            nueva.append(tuple(list(e) + [bola]))\n",
    "    return nueva\n",
    "\n",
    "# Usamos la función para sacar cuatro bolas\n",
    "espacio = []\n",
    "for i in range(4):\n",
    "   espacio = sacar_bola(espacio, urna)\n",
    "\n",
    "# Tenemos que convertir la lista a un conjunto para usarla en la función de probabilidad.\n",
    "espacio = set(espacio)\n",
    "\n",
    "\n",
    "# El resto es análogo a lo hecho en clase\n",
    "def rojos(evento):\n",
    "    s = [i[0] for i in evento]\n",
    "    return s.count('R') == 4\n",
    "\n",
    "tres_rojos = {e for e in espacio if rojos(e)}\n",
    "\n",
    "prob(tres_rojos, espacio)"
   ]
  },
  {
   "cell_type": "code",
   "execution_count": null,
   "metadata": {},
   "outputs": [],
   "source": []
  }
 ],
 "metadata": {
  "colab": {
   "provenance": []
  },
  "kernelspec": {
   "display_name": "Python 3 (ipykernel)",
   "language": "python",
   "name": "python3"
  },
  "language_info": {
   "codemirror_mode": {
    "name": "ipython",
    "version": 3
   },
   "file_extension": ".py",
   "mimetype": "text/x-python",
   "name": "python",
   "nbconvert_exporter": "python",
   "pygments_lexer": "ipython3",
   "version": "3.11.3"
  }
 },
 "nbformat": 4,
 "nbformat_minor": 1
}
