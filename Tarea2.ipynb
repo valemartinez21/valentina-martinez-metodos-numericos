{
  "nbformat": 4,
  "nbformat_minor": 0,
  "metadata": {
    "colab": {
      "provenance": []
    },
    "kernelspec": {
      "name": "python3",
      "display_name": "Python 3"
    },
    "language_info": {
      "name": "python"
    }
  },
  "cells": [
    {
      "cell_type": "code",
      "execution_count": 2,
      "metadata": {
        "colab": {
          "base_uri": "https://localhost:8080/"
        },
        "id": "qPwyXtQ4UH9T",
        "outputId": "d0d17003-ae8e-4829-8eaf-7ad6f497ca0f"
      },
      "outputs": [
        {
          "output_type": "execute_result",
          "data": {
            "text/plain": [
              "0.1296"
            ]
          },
          "metadata": {},
          "execution_count": 2
        }
      ],
      "source": [
        "import numpy as np\n",
        "\n",
        "# Definir las proporciones de bolas en la urna\n",
        "# Supongamos que hay 3 bolas rojas y 2 bolas de otros colores en la urna\n",
        "total_bolas = 5\n",
        "bolas_rojas = 3\n",
        "\n",
        "# Probabilidad de sacar una bola roja en un intento\n",
        "prob_rojas = bolas_rojas / total_bolas\n",
        "\n",
        "# Como se reemplaza la bola, la probabilidad de sacar cuatro bolas rojas en cuatro intentos es:\n",
        "prob_total_rojas = prob_rojas ** 4\n",
        "\n",
        "prob_total_rojas"
      ]
    }
  ]
}