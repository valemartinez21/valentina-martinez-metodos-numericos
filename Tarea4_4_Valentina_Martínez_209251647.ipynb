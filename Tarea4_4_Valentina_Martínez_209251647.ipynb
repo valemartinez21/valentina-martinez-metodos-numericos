{
 "cells": [
  {
   "cell_type": "markdown",
   "metadata": {
    "id": "4cfD2BLtwkwr"
   },
   "source": [
    "## Tarea 4 (4.4)\n",
    "Veinte números aleatorios se extraen de una distribución uniforme entre $0$ y $1$.\n",
    "\n",
    "- Use monte carlo para estimar la probabilidad de que la suma de los veinte números esté entre $9$ y $10$. Ídem entre $15$ y $16$.\n",
    "- Use el teorema central del límite para estimar la misma probabilidad.\n",
    "\n",
    "Recuerde estimar el error de la simulación así como cuantificar con errores relativos la diferencia entre la simulación y la gaussiana.\n",
    "\n",
    "Comente sobre su resultado.\n",
    "\n",
    "Pista:\n",
    "\n",
    "$$\n",
    "\\int_0^a dx\\,e^{-x^2} = \\frac{\\sqrt{\\pi}}{2}\\text{erf}(a)\\,,\n",
    "$$\n",
    "\n",
    "donde $\\text{erf}$ es la una función especial llamada la función de error. Esta función se puede llamar usando el módulo `scipy.special`.\n"
   ]
  },
  {
   "cell_type": "code",
   "execution_count": 2,
   "metadata": {
    "id": "JZzNiGC-v6pK"
   },
   "outputs": [],
   "source": [
    "import numpy as np\n",
    "from scipy.special import erf"
   ]
  },
  {
   "cell_type": "code",
   "execution_count": 8,
   "metadata": {
    "id": "c8b8RmmQwiUm"
   },
   "outputs": [],
   "source": [
    "N_simulaciones = 100000 #Cantidad de simulaciones\n",
    "N_numeros = 20 #Cantidad de numeros aleatorios en cada simulacion\n",
    "\n",
    "#Monte Carlo, genera de N_simulaciones sumas de 20 numeros aleatorios uniformes estre 0 y 1\n",
    "random_sums = np.sum(np.random.uniform(0, 1, (N_simulaciones, N_numeros)), axis=1)\n",
    "\n",
    "#Intervalos\n",
    "Intervalo_9_10 = (9,10)\n",
    "Intervalo_15_16 = (15, 16)\n",
    "\n",
    "#Probabolidad con Monte Carlo\n",
    "prob_mc_9_10 = np.mean((random_sums >= Intervalo_9_10[0]) & (random_sums <= Intervalo_9_10[1]))\n",
    "prob_mc_15_16 = np.mean((random_sums >= Intervalo_15_16[0]) & (random_sums <= Intervalo_15_16[1]))\n",
    "\n",
    "#Estimacion error en simulacion MC\n",
    "error_mc_9_10 = np.sqrt(prob_mc_9_10 * (1 - prob_mc_9_10) / N_simulaciones)\n",
    "error_mc_15_16 = np.sqrt(prob_mc_15_16 * (1 - prob_mc_15_16) / N_simulaciones)\n",
    "\n",
    "#Teo central del limite\n",
    "mu = N_numeros * 0.5  # Media de la suma\n",
    "sigma = np.sqrt(N_numeros / 12)  # Desviación estándar de la suma\n",
    "\n",
    "\n",
    "#Probabilidad usando aprox normal(tcl = teorema central del limite)\n",
    "def prob_tcl(a, b, mu, sigma):\n",
    "  return 0.5 * (erf((b - mu) / (sigma * np.sqrt(2))) - erf((a - mu) / (sigma * np.sqrt(2))))\n",
    "\n",
    "\n",
    "#Prob usando TCL\n",
    "prob_tcl_9_10 = prob_tcl(9, 10, mu, sigma)\n",
    "prob_tcl_15_16 = prob_tcl(15, 16, mu, sigma)\n",
    "\n",
    "#Eror entre MC y TCL\n",
    "error_rel_9_10 = abs(prob_mc_9_10 - prob_tcl_9_10) / prob_tcl_9_10\n",
    "error_rel_15_16 = abs(prob_mc_15_16 - prob_tcl_15_16) / prob_tcl_15_16\n",
    "\n",
    "\n"
   ]
  },
  {
   "cell_type": "code",
   "execution_count": 9,
   "metadata": {
    "colab": {
     "base_uri": "https://localhost:8080/"
    },
    "id": "QN_uG0eu8rmj",
    "outputId": "6e67a7a9-020f-4322-8619-7076541f774a"
   },
   "outputs": [
    {
     "name": "stdout",
     "output_type": "stream",
     "text": [
      "Intervalo [9, 10]:\n",
      "Probabilidad Monte Carlo: 0.27875 ± 0.00142\n",
      "Probabilidad TCL: 0.28071\n",
      "Error relativo: 0.70%\n",
      "\n",
      "Intervalo [15, 16]:\n",
      "Probabilidad Monte Carlo: 0.00001 ± 0.00001\n",
      "Probabilidad TCL: 0.00005\n",
      "Error relativo: 80.80%\n"
     ]
    }
   ],
   "source": [
    "# Resultados\n",
    "print(f\"Intervalo [9, 10]:\")\n",
    "print(f\"Probabilidad Monte Carlo: {prob_mc_9_10:.5f} ± {error_mc_9_10:.5f}\")\n",
    "print(f\"Probabilidad TCL: {prob_tcl_9_10:.5f}\")\n",
    "print(f\"Error relativo: {error_rel_9_10*100:.2f}%\\n\")\n",
    "\n",
    "print(f\"Intervalo [15, 16]:\")\n",
    "print(f\"Probabilidad Monte Carlo: {prob_mc_15_16:.5f} ± {error_mc_15_16:.5f}\")\n",
    "print(f\"Probabilidad TCL: {prob_tcl_15_16:.5f}\")\n",
    "print(f\"Error relativo: {error_rel_15_16*100:.2f}%\")\n"
   ]
  },
  {
   "cell_type": "markdown",
   "metadata": {},
   "source": [
    "# Nota: 50"
   ]
  },
  {
   "cell_type": "code",
   "execution_count": 3,
   "metadata": {},
   "outputs": [],
   "source": [
    "points= 160000\n",
    "sims = 10\n",
    "\n",
    "def prob_intervalo(a, b, res):\n",
    "    return np.count_nonzero((res > a)*(res < b))/ points\n",
    "\n",
    "probs1 = np.zeros(sims)\n",
    "probs2 = np.zeros(sims)\n",
    "\n",
    "for i in range(sims):\n",
    "    res = np.array([sum(np.random.random(10)) for i in range(points)])\n",
    "    probs1[i] = prob_intervalo(4, 5, res)\n",
    "    probs2[i] = prob_intervalo(8, 9, res)"
   ]
  },
  {
   "cell_type": "code",
   "execution_count": 4,
   "metadata": {},
   "outputs": [],
   "source": [
    "prob1mc = probs1[0]"
   ]
  },
  {
   "cell_type": "code",
   "execution_count": 5,
   "metadata": {},
   "outputs": [
    {
     "data": {
      "text/plain": [
       "0.364575"
      ]
     },
     "execution_count": 5,
     "metadata": {},
     "output_type": "execute_result"
    }
   ],
   "source": [
    "prob1mc"
   ]
  },
  {
   "cell_type": "code",
   "execution_count": 6,
   "metadata": {},
   "outputs": [],
   "source": [
    "prob2mc = probs2[0]"
   ]
  },
  {
   "cell_type": "code",
   "execution_count": 7,
   "metadata": {},
   "outputs": [
    {
     "data": {
      "text/plain": [
       "0.0002875"
      ]
     },
     "execution_count": 7,
     "metadata": {},
     "output_type": "execute_result"
    }
   ],
   "source": [
    "prob2mc"
   ]
  },
  {
   "cell_type": "code",
   "execution_count": 8,
   "metadata": {},
   "outputs": [
    {
     "data": {
      "text/plain": [
       "0.0012949149344648053"
      ]
     },
     "execution_count": 8,
     "metadata": {},
     "output_type": "execute_result"
    }
   ],
   "source": [
    "probs1.std()"
   ]
  },
  {
   "cell_type": "code",
   "execution_count": 9,
   "metadata": {},
   "outputs": [
    {
     "data": {
      "text/plain": [
       "4.833557825246327e-05"
      ]
     },
     "execution_count": 9,
     "metadata": {},
     "output_type": "execute_result"
    }
   ],
   "source": [
    "probs2.std()"
   ]
  },
  {
   "cell_type": "code",
   "execution_count": 10,
   "metadata": {},
   "outputs": [],
   "source": [
    "import scipy as sp"
   ]
  },
  {
   "cell_type": "markdown",
   "metadata": {},
   "source": [
    "La varianza de una distribución uniforme es\n",
    "\n",
    "$$\n",
    "\\int_0^1 dx\\, (x - 1/2)^2 = \\frac{1}{12}\n",
    "$$\n",
    "\n",
    "tal que la gaussiana del teorema central del límite tiene una varianza\n",
    "\n",
    "$$\n",
    "\\sigma^2 = \\frac{10}{12}\n",
    "$$"
   ]
  },
  {
   "cell_type": "code",
   "execution_count": 11,
   "metadata": {},
   "outputs": [],
   "source": [
    "sigma = np.sqrt(10/12)\n",
    "mu = 10/2"
   ]
  },
  {
   "cell_type": "markdown",
   "metadata": {},
   "source": [
    "La probabilidad de obtener un resultado entre $a$ y $b$ para la gaussiana se puede obtener a partir de la función de error \n",
    "\n",
    "$$\n",
    "P = \\frac{1}{2}\\left(\\text{erf}\\left(\\frac{b - \\mu}{\\sqrt{2}\\sigma}\\right) - \\text{erf}\\left(\\frac{a - \\mu}{\\sqrt{2}\\sigma}\\right)\\right)\n",
    "$$"
   ]
  },
  {
   "cell_type": "code",
   "execution_count": 12,
   "metadata": {},
   "outputs": [],
   "source": [
    "def prob_intervalo_gauss(a, b):\n",
    "    p1 = sp.special.erf((b - mu)/(np.sqrt(2)*sigma))\n",
    "    p2 = sp.special.erf((a - mu)/(np.sqrt(2)*sigma))\n",
    "    return (p1 - p2)/2"
   ]
  },
  {
   "cell_type": "code",
   "execution_count": 13,
   "metadata": {},
   "outputs": [],
   "source": [
    "prob1g = prob_intervalo_gauss(4, 5)"
   ]
  },
  {
   "cell_type": "code",
   "execution_count": 14,
   "metadata": {},
   "outputs": [],
   "source": [
    "prob2g = prob_intervalo_gauss(8, 9 )"
   ]
  },
  {
   "cell_type": "code",
   "execution_count": 15,
   "metadata": {},
   "outputs": [
    {
     "data": {
      "text/plain": [
       "0.0034013375911500264"
      ]
     },
     "execution_count": 15,
     "metadata": {},
     "output_type": "execute_result"
    }
   ],
   "source": [
    "np.abs(prob1mc - prob1g)/prob1g"
   ]
  },
  {
   "cell_type": "code",
   "execution_count": 16,
   "metadata": {},
   "outputs": [
    {
     "data": {
      "text/plain": [
       "0.42685104645442656"
      ]
     },
     "execution_count": 16,
     "metadata": {},
     "output_type": "execute_result"
    }
   ],
   "source": [
    "np.abs(prob2mc - prob2g)/prob2g"
   ]
  },
  {
   "cell_type": "code",
   "execution_count": 17,
   "metadata": {},
   "outputs": [
    {
     "data": {
      "text/plain": [
       "0.09635995163276348"
      ]
     },
     "execution_count": 17,
     "metadata": {},
     "output_type": "execute_result"
    }
   ],
   "source": [
    "probs2.std()/prob2g"
   ]
  },
  {
   "cell_type": "markdown",
   "metadata": {},
   "source": [
    "Vemos que el error sobre la probabilidad en el segundo caso es grande. Este es un error de la aproximación y no numérico ya que el error de amonte Carlo es mucho menor.\n",
    "Esto ilustra el hecho que la convergencia a una gaussiana garantizada por el teorema central del límite es lenta en las colas, es decir a varias desviaciones estándar de la media."
   ]
  },
  {
   "cell_type": "code",
   "execution_count": null,
   "metadata": {},
   "outputs": [],
   "source": []
  }
 ],
 "metadata": {
  "colab": {
   "provenance": []
  },
  "kernelspec": {
   "display_name": "Python 3 (ipykernel)",
   "language": "python",
   "name": "python3"
  },
  "language_info": {
   "codemirror_mode": {
    "name": "ipython",
    "version": 3
   },
   "file_extension": ".py",
   "mimetype": "text/x-python",
   "name": "python",
   "nbconvert_exporter": "python",
   "pygments_lexer": "ipython3",
   "version": "3.11.3"
  }
 },
 "nbformat": 4,
 "nbformat_minor": 1
}
