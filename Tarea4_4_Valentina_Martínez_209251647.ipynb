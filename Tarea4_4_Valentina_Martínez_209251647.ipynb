{
  "nbformat": 4,
  "nbformat_minor": 0,
  "metadata": {
    "colab": {
      "provenance": []
    },
    "kernelspec": {
      "name": "python3",
      "display_name": "Python 3"
    },
    "language_info": {
      "name": "python"
    }
  },
  "cells": [
    {
      "cell_type": "markdown",
      "source": [
        "## Tarea 4 (4.4)\n",
        "Veinte números aleatorios se extraen de una distribución uniforme entre $0$ y $1$.\n",
        "\n",
        "- Use monte carlo para estimar la probabilidad de que la suma de los veinte números esté entre $9$ y $10$. Ídem entre $15$ y $16$.\n",
        "- Use el teorema central del límite para estimar la misma probabilidad.\n",
        "\n",
        "Recuerde estimar el error de la simulación así como cuantificar con errores relativos la diferencia entre la simulación y la gaussiana.\n",
        "\n",
        "Comente sobre su resultado.\n",
        "\n",
        "Pista:\n",
        "\n",
        "$$\n",
        "\\int_0^a dx\\,e^{-x^2} = \\frac{\\sqrt{\\pi}}{2}\\text{erf}(a)\\,,\n",
        "$$\n",
        "\n",
        "donde $\\text{erf}$ es la una función especial llamada la función de error. Esta función se puede llamar usando el módulo `scipy.special`.\n"
      ],
      "metadata": {
        "id": "4cfD2BLtwkwr"
      }
    },
    {
      "cell_type": "code",
      "execution_count": 7,
      "metadata": {
        "id": "JZzNiGC-v6pK"
      },
      "outputs": [],
      "source": [
        "import numpy as np\n",
        "from scipy.special import erf"
      ]
    },
    {
      "cell_type": "code",
      "source": [
        "N_simulaciones = 100000 #Cantidad de simulaciones\n",
        "N_numeros = 20 #Cantidad de numeros aleatorios en cada simulacion\n",
        "\n",
        "#Monte Carlo, genera de N_simulaciones sumas de 20 numeros aleatorios uniformes estre 0 y 1\n",
        "random_sums = np.sum(np.random.uniform(0, 1, (N_simulaciones, N_numeros)), axis=1)\n",
        "\n",
        "#Intervalos\n",
        "Intervalo_9_10 = (9,10)\n",
        "Intervalo_15_16 = (15, 16)\n",
        "\n",
        "#Probabolidad con Monte Carlo\n",
        "prob_mc_9_10 = np.mean((random_sums >= Intervalo_9_10[0]) & (random_sums <= Intervalo_9_10[1]))\n",
        "prob_mc_15_16 = np.mean((random_sums >= Intervalo_15_16[0]) & (random_sums <= Intervalo_15_16[1]))\n",
        "\n",
        "#Estimacion error en simulacion MC\n",
        "error_mc_9_10 = np.sqrt(prob_mc_9_10 * (1 - prob_mc_9_10) / N_simulaciones)\n",
        "error_mc_15_16 = np.sqrt(prob_mc_15_16 * (1 - prob_mc_15_16) / N_simulaciones)\n",
        "\n",
        "#Teo central del limite\n",
        "mu = N_numeros * 0.5  # Media de la suma\n",
        "sigma = np.sqrt(N_numeros / 12)  # Desviación estándar de la suma\n",
        "\n",
        "\n",
        "#Probabilidad usando aprox normal(tcl = teorema central del limite)\n",
        "def prob_tcl(a, b, mu, sigma):\n",
        "  return 0.5 * (erf((b - mu) / (sigma * np.sqrt(2))) - erf((a - mu) / (sigma * np.sqrt(2))))\n",
        "\n",
        "\n",
        "#Prob usando TCL\n",
        "prob_tcl_9_10 = prob_tcl(9, 10, mu, sigma)\n",
        "prob_tcl_15_16 = prob_tcl(15, 16, mu, sigma)\n",
        "\n",
        "#Eror entre MC y TCL\n",
        "error_rel_9_10 = abs(prob_mc_9_10 - prob_tcl_9_10) / prob_tcl_9_10\n",
        "error_rel_15_16 = abs(prob_mc_15_16 - prob_tcl_15_16) / prob_tcl_15_16\n",
        "\n",
        "\n"
      ],
      "metadata": {
        "id": "c8b8RmmQwiUm"
      },
      "execution_count": 8,
      "outputs": []
    },
    {
      "cell_type": "code",
      "source": [
        "# Resultados\n",
        "print(f\"Intervalo [9, 10]:\")\n",
        "print(f\"Probabilidad Monte Carlo: {prob_mc_9_10:.5f} ± {error_mc_9_10:.5f}\")\n",
        "print(f\"Probabilidad TCL: {prob_tcl_9_10:.5f}\")\n",
        "print(f\"Error relativo: {error_rel_9_10*100:.2f}%\\n\")\n",
        "\n",
        "print(f\"Intervalo [15, 16]:\")\n",
        "print(f\"Probabilidad Monte Carlo: {prob_mc_15_16:.5f} ± {error_mc_15_16:.5f}\")\n",
        "print(f\"Probabilidad TCL: {prob_tcl_15_16:.5f}\")\n",
        "print(f\"Error relativo: {error_rel_15_16*100:.2f}%\")\n"
      ],
      "metadata": {
        "colab": {
          "base_uri": "https://localhost:8080/"
        },
        "id": "QN_uG0eu8rmj",
        "outputId": "6e67a7a9-020f-4322-8619-7076541f774a"
      },
      "execution_count": 9,
      "outputs": [
        {
          "output_type": "stream",
          "name": "stdout",
          "text": [
            "Intervalo [9, 10]:\n",
            "Probabilidad Monte Carlo: 0.27875 ± 0.00142\n",
            "Probabilidad TCL: 0.28071\n",
            "Error relativo: 0.70%\n",
            "\n",
            "Intervalo [15, 16]:\n",
            "Probabilidad Monte Carlo: 0.00001 ± 0.00001\n",
            "Probabilidad TCL: 0.00005\n",
            "Error relativo: 80.80%\n"
          ]
        }
      ]
    }
  ]
}