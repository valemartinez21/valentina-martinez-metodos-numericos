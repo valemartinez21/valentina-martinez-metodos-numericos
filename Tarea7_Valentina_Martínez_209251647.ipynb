{
  "nbformat": 4,
  "nbformat_minor": 0,
  "metadata": {
    "colab": {
      "provenance": []
    },
    "kernelspec": {
      "name": "python3",
      "display_name": "Python 3"
    },
    "language_info": {
      "name": "python"
    }
  },
  "cells": [
    {
      "cell_type": "markdown",
      "source": [
        "# Tarea 7 (7.2)\n",
        "\n",
        "Valentina Martínez Garrido 20925164-7\n",
        "\n",
        "Escriba un código que implemente una cuadratura gaussiana compuesta. Es decir, divide el rango de integración en $n$ subintervalos y aplica una cuadratura gaussiana en cada uno."
      ],
      "metadata": {
        "id": "TiurjgUB0ptb"
      }
    },
    {
      "cell_type": "code",
      "execution_count": 1,
      "metadata": {
        "id": "uTd1RIJl0jMw"
      },
      "outputs": [],
      "source": [
        "import numpy as np\n",
        "from scipy import integrate"
      ]
    },
    {
      "cell_type": "code",
      "source": [
        "# Función cuadratura gaussiana en un subintervalo\n",
        "def gauss_quad(f, a, b, n_gauss_puntos):\n",
        "    \"\"\"\n",
        "    Parámetros:\n",
        "    f: Función a integrar.\n",
        "    a, b: Límites de integración.\n",
        "    n_gauss_puntos: Número de puntos de Gauss.\n",
        "    \"\"\"\n",
        "    # scipy.integrate.fixed_quad realiza la cuadratura en el intervalo dado\n",
        "    resultados, _ = integrate.fixed_quad(f, a, b, n=n_gauss_puntos)\n",
        "    return resultados\n",
        "\n",
        "# Función cuadratura gaussiana compuesta\n",
        "def gauss_quad_compuesta(f, a, b, n_intervalos, n_gauss_puntos):\n",
        "    \"\"\"\n",
        "    Parámetros:\n",
        "    f: Función a integrar.\n",
        "    a, b: Límites de integración.\n",
        "    n_intervalos: Número de subintervalos.\n",
        "    n_gauss_puntos: Número de puntos de Gauss por subintervalo.\n",
        "    \"\"\"\n",
        "    total = 0\n",
        "    h = (b - a) / n_intervalos  # Longitud de cada subintervalo\n",
        "\n",
        "    for i in range(n_intervalos):\n",
        "        a_i = a + i * h  # Extremo izquierdo\n",
        "        b_i = a + (i + 1) * h  # Extremo derecho\n",
        "        total += gauss_quad(f, a_i, b_i, n_gauss_puntos)\n",
        "\n",
        "    return total"
      ],
      "metadata": {
        "id": "ERInT_lT2Djx"
      },
      "execution_count": 11,
      "outputs": []
    },
    {
      "cell_type": "code",
      "source": [
        "# Ejemplo con función seno\n",
        "f = lambda x: np.sin(x)\n",
        "\n",
        "# Intervalo de integración [a, b]\n",
        "a = 0\n",
        "b = np.pi\n",
        "\n",
        "# Parámetros: número de subintervalos y puntos de Gauss por subintervalo\n",
        "n_intervalos = 10  # Número de subintervalos\n",
        "n_gauss_puntos = 2  # Número de puntos de Gauss por subintervalo\n",
        "\n",
        "# Calcular la integral\n",
        "integral = gauss_quad_compuesta(f, a, b, n_intervalos, n_gauss_puntos)\n",
        "\n",
        "print(f'La integral aproximada es: {integral}')"
      ],
      "metadata": {
        "colab": {
          "base_uri": "https://localhost:8080/"
        },
        "id": "HctP5lmO77HR",
        "outputId": "603c22b0-16ad-4c49-b815-ea42bf3b520f"
      },
      "execution_count": 13,
      "outputs": [
        {
          "output_type": "stream",
          "name": "stdout",
          "text": [
            "La integral aproximada es: 1.9999954761529581\n"
          ]
        }
      ]
    }
  ]
}